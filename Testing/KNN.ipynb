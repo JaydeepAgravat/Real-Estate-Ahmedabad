{
 "cells": [
  {
   "cell_type": "code",
   "execution_count": 1,
   "id": "7aa0e326",
   "metadata": {},
   "outputs": [],
   "source": [
    "import numpy as np\n",
    "import pandas as pd\n",
    "import matplotlib.pyplot as plt\n",
    "import seaborn as sns\n",
    "\n",
    "from sklearn.model_selection import train_test_split, GridSearchCV, cross_validate, KFold\n",
    "from sklearn.metrics import r2_score, mean_squared_error, make_scorer\n",
    "from sklearn.compose import ColumnTransformer\n",
    "from sklearn.pipeline import Pipeline\n",
    "from sklearn.preprocessing import OrdinalEncoder, OneHotEncoder, StandardScaler, RobustScaler, MinMaxScaler\n",
    "from sklearn.neighbors import KNeighborsRegressor"
   ]
  },
  {
   "cell_type": "code",
   "execution_count": 2,
   "id": "4d6b3923",
   "metadata": {},
   "outputs": [],
   "source": [
    "df = pd.read_csv('preprocessed_residential_apartment.csv')\n",
    "dff = df.copy()"
   ]
  },
  {
   "cell_type": "code",
   "execution_count": 3,
   "id": "182ee049",
   "metadata": {},
   "outputs": [
    {
     "data": {
      "text/plain": [
       "(7830, 14)"
      ]
     },
     "execution_count": 3,
     "metadata": {},
     "output_type": "execute_result"
    }
   ],
   "source": [
    "df.shape"
   ]
  },
  {
   "cell_type": "code",
   "execution_count": 4,
   "id": "57399677",
   "metadata": {},
   "outputs": [],
   "source": [
    "input_cols = ['CITY', 'FLOOR_CATEGORY', 'BUILDING_TYPE', 'CORNER_PROPERTY', 'FURNISH_LABEL',\n",
    "             'BEDROOM_NUM', 'BATHROOM_NUM', 'BALCONY_NUM', 'AREA']\n",
    "target_cols = ['PRICE']"
   ]
  },
  {
   "cell_type": "code",
   "execution_count": 5,
   "id": "3c73d4af",
   "metadata": {},
   "outputs": [
    {
     "data": {
      "text/plain": [
       "((6264, 9), (1566, 9))"
      ]
     },
     "execution_count": 5,
     "metadata": {},
     "output_type": "execute_result"
    }
   ],
   "source": [
    "X = df[input_cols]\n",
    "y = df[target_cols]\n",
    "\n",
    "X_train, X_test, y_train, y_test = train_test_split(X, y, test_size=0.2, random_state=42)\n",
    "\n",
    "X_train.shape, X_test.shape"
   ]
  },
  {
   "cell_type": "code",
   "execution_count": 6,
   "id": "19fe2df5",
   "metadata": {},
   "outputs": [
    {
     "name": "stdout",
     "output_type": "stream",
     "text": [
      "Best parameters found: \n",
      "{'model__leaf_size': 10, 'model__n_neighbors': 21, 'model__weights': 'distance'}\n"
     ]
    }
   ],
   "source": [
    "preprocessing = ColumnTransformer([\n",
    "    ('oe', OrdinalEncoder(), [1, 2]),\n",
    "    ('ohe', OneHotEncoder(), [0, 3, 4]),\n",
    "    ('ss', StandardScaler(), [5, 6, 7, 8])\n",
    "], remainder='passthrough')\n",
    "\n",
    "pipeline = Pipeline([\n",
    "    ('preprocessing', preprocessing),\n",
    "    ('model', KNeighborsRegressor(n_jobs=-1))\n",
    "])\n",
    "\n",
    "# pipeline.fit(X_train, y_train)\n",
    "\n",
    "# Define the parameter grid to search\n",
    "param_grid = {\n",
    "    'model__n_neighbors': range(1, 101, 10),  # Search from 1 to 100 neighbors\n",
    "    'model__weights': ['uniform', 'distance'],\n",
    "    'model__leaf_size': [10, 20, 30, 40, 50],  # Example values for leaf_size,\n",
    "#     'model__p': [1, 2, 3]\n",
    "}\n",
    "\n",
    "def rmse(y_true, y_pred):\n",
    "    return np.sqrt(mean_squared_error(y_true, y_pred))\n",
    "\n",
    "rmse_scorer = make_scorer(rmse, greater_is_better=False)\n",
    "\n",
    "\n",
    "# Set up GridSearchCV\n",
    "grid_search = GridSearchCV(pipeline, param_grid, cv=KFold(n_splits=5, shuffle=True, random_state=42),\n",
    "                           scoring={'RMSE': rmse_scorer, 'r2': 'r2'}, \n",
    "                           refit='RMSE', # Refit using the best RMSE score\n",
    "                           return_train_score=True,\n",
    "                           n_jobs=-1)\n",
    "\n",
    "# Perform the search\n",
    "grid_search.fit(X_train, y_train)\n",
    "\n",
    "# Best parameter set\n",
    "print(\"Best parameters found: \")\n",
    "print(grid_search.best_params_)\n",
    "\n",
    "# Results of the grid search\n",
    "results = pd.DataFrame(grid_search.cv_results_)"
   ]
  },
  {
   "cell_type": "code",
   "execution_count": 7,
   "id": "e2de2e3e",
   "metadata": {},
   "outputs": [
    {
     "data": {
      "text/plain": [
       "{'model__leaf_size': 10, 'model__n_neighbors': 21, 'model__weights': 'uniform'}"
      ]
     },
     "execution_count": 7,
     "metadata": {},
     "output_type": "execute_result"
    }
   ],
   "source": [
    "{'model__leaf_size': 10, 'model__n_neighbors': 21, 'model__weights': 'uniform'}"
   ]
  },
  {
   "cell_type": "code",
   "execution_count": 8,
   "id": "cfd7817a",
   "metadata": {},
   "outputs": [
    {
     "name": "stdout",
     "output_type": "stream",
     "text": [
      "Train RMSE:  435485.60268138064\n",
      "Test RMSE:  2485193.4870984135\n",
      "Train R2:  0.9942645125119061\n",
      "Test R2:  0.8098387333365208\n"
     ]
    }
   ],
   "source": [
    "y_train_pred = grid_search.predict(X_train)\n",
    "y_test_pred = grid_search.predict(X_test)\n",
    "\n",
    "print('Train RMSE: ', mean_squared_error(y_train, y_train_pred)**0.5)\n",
    "print('Test RMSE: ', mean_squared_error(y_test, y_test_pred)**0.5)\n",
    "\n",
    "print('Train R2: ', r2_score(y_train, y_train_pred))\n",
    "print('Test R2: ', r2_score(y_test, y_test_pred))"
   ]
  },
  {
   "cell_type": "code",
   "execution_count": 9,
   "id": "d448bfd3",
   "metadata": {},
   "outputs": [],
   "source": [
    "preprocessing = ColumnTransformer([\n",
    "    ('oe', OrdinalEncoder(), [1, 2]),\n",
    "    ('ohe', OneHotEncoder(), [0, 3, 4]),\n",
    "    ('ss', StandardScaler(), [5, 6, 7, 8])\n",
    "], remainder='passthrough')\n",
    "\n",
    "pipeline = Pipeline([\n",
    "    ('preprocessing', preprocessing),\n",
    "    ('model', KNeighborsRegressor(n_neighbors=21, weights='uniform', leaf_size=10 ,n_jobs=-1))\n",
    "])\n",
    "\n",
    "def rmse(y_true, y_pred):\n",
    "    return np.sqrt(mean_squared_error(y_true, y_pred))\n",
    "\n",
    "rmse_scorer = make_scorer(rmse, greater_is_better=False)\n",
    "\n",
    "cv = KFold(n_splits=10, shuffle=True, random_state=42)\n",
    "cv_results = cross_validate(pipeline, X_train, y_train, n_jobs=-1,\n",
    "                            scoring={'RMSE': rmse_scorer, 'r2': 'r2'},\n",
    "                            cv=cv,\n",
    "                            return_train_score=True)"
   ]
  },
  {
   "cell_type": "code",
   "execution_count": 10,
   "id": "7e04297c",
   "metadata": {},
   "outputs": [],
   "source": [
    "def get_error_df(cv_results):\n",
    "    return pd.DataFrame(cv_results)[list(cv_results.keys())[-4:]].apply(abs)"
   ]
  },
  {
   "cell_type": "code",
   "execution_count": 11,
   "id": "887399b0",
   "metadata": {},
   "outputs": [],
   "source": [
    "def get_error_graph(errors_df):\n",
    "    fig, ax1 = plt.subplots()\n",
    "\n",
    "    # Plotting RMSE\n",
    "    color = 'tab:red'\n",
    "    ax1.set_xlabel('Fold')\n",
    "    ax1.set_ylabel('RMSE', color=color)\n",
    "    ax1.plot(errors_df.index, errors_df['test_RMSE'], color=color, label='Test RMSE', marker='o')\n",
    "    ax1.plot(errors_df.index, errors_df['train_RMSE'], color=color, label='Train RMSE', marker='x', linestyle='--')\n",
    "    ax1.tick_params(axis='y', labelcolor=color)\n",
    "    ax1.legend(loc='center left')\n",
    "\n",
    "    # Create a twin Axes sharing the same x-axis for R^2 score\n",
    "    ax2 = ax1.twinx()  \n",
    "    color = 'tab:blue'\n",
    "    ax2.set_ylabel('R^2 score', color=color)  \n",
    "    ax2.plot(errors_df.index, errors_df['test_r2'], color=color, label='Test R^2', marker='o')\n",
    "    ax2.plot(errors_df.index, errors_df['train_r2'], color=color, label='Train R^2', marker='x', linestyle='--')\n",
    "    ax2.tick_params(axis='y', labelcolor=color)\n",
    "    ax2.legend(loc='center right')\n",
    "\n",
    "    # Fine-tune figure; make subplots close to each other and hide x ticks for all but bottom plot.\n",
    "    fig.tight_layout()  \n",
    "    plt.title('Model Evaluation Metrics per Fold')\n",
    "    plt.show()"
   ]
  },
  {
   "cell_type": "code",
   "execution_count": 12,
   "id": "8c8ab02a",
   "metadata": {},
   "outputs": [],
   "source": [
    "error_df = get_error_df(cv_results)"
   ]
  },
  {
   "cell_type": "code",
   "execution_count": 13,
   "id": "22ad44f9",
   "metadata": {},
   "outputs": [
    {
     "data": {
      "image/png": "[encoded data removed]",
      "text/plain": [
       "<Figure size 640x480 with 2 Axes>"
      ]
     },
     "metadata": {},
     "output_type": "display_data"
    }
   ],
   "source": [
    "get_error_graph(get_error_df(cv_results))"
   ]
  },
  {
   "cell_type": "code",
   "execution_count": 14,
   "id": "e5a8cffd",
   "metadata": {},
   "outputs": [
    {
     "name": "stdout",
     "output_type": "stream",
     "text": [
      "Train RMSE:  2544880.3932427885    Train RMSE STD:  20104.125384064177\n",
      "Test RMSE:  2662754.205204056    Test RMSE STD:  180655.67031171703\n",
      "Train R2:  0.8041190767176308    Train R2 STD:  0.0022514419672943356\n",
      "Test R2:  0.7840345982448793    Test R2 STD:  0.022668569072194316\n"
     ]
    }
   ],
   "source": [
    "print('Train RMSE: ', error_df.mean().iloc[1], '   Train RMSE STD: ', error_df.std().iloc[1])\n",
    "print('Test RMSE: ', error_df.mean().iloc[0], '   Test RMSE STD: ', error_df.std().iloc[0])\n",
    "\n",
    "print('Train R2: ', error_df.mean().iloc[3], '   Train R2 STD: ', error_df.std().iloc[3])\n",
    "print('Test R2: ', error_df.mean().iloc[2], '   Test R2 STD: ', error_df.std().iloc[2])"
   ]
  },
  {
   "cell_type": "markdown",
   "id": "b62deab4",
   "metadata": {},
   "source": [
    "## Best Params"
   ]
  },
  {
   "cell_type": "code",
   "execution_count": 15,
   "id": "32bf834d",
   "metadata": {},
   "outputs": [
    {
     "name": "stdout",
     "output_type": "stream",
     "text": [
      "Train RMSE:  2537008.4111287678\n",
      "Test RMSE:  2611658.153436794\n",
      "Train R2:  0.8053445590226581\n",
      "Test R2:  0.7899927399268293\n"
     ]
    }
   ],
   "source": [
    "df = pd.read_csv('preprocessed_residential_apartment.csv')\n",
    "dff = df.copy()\n",
    "\n",
    "df.shape\n",
    "\n",
    "input_cols = ['CITY', 'FLOOR_CATEGORY', 'BUILDING_TYPE', 'CORNER_PROPERTY', 'FURNISH_LABEL',\n",
    "             'BEDROOM_NUM', 'BATHROOM_NUM', 'BALCONY_NUM', 'AREA']\n",
    "\n",
    "target_cols = ['PRICE']\n",
    "\n",
    "X = df[input_cols]\n",
    "y = df[target_cols]\n",
    "\n",
    "X_train, X_test, y_train, y_test = train_test_split(X, y, test_size=0.2, random_state=42)\n",
    "\n",
    "\n",
    "preprocessing = ColumnTransformer([\n",
    "    ('oe', OrdinalEncoder(), [1, 2]),\n",
    "    ('ohe', OneHotEncoder(), [0, 3, 4]),\n",
    "    ('ss', StandardScaler(), [5, 6, 7, 8])\n",
    "], remainder='passthrough')\n",
    "\n",
    "pipeline = Pipeline([\n",
    "    ('preprocessing', preprocessing),\n",
    "    ('model', KNeighborsRegressor(n_neighbors=21, weights='uniform', leaf_size=10 ,n_jobs=-1))\n",
    "])\n",
    "\n",
    "def rmse(y_true, y_pred):\n",
    "    return np.sqrt(mean_squared_error(y_true, y_pred))\n",
    "\n",
    "pipeline.fit(X_train, y_train)\n",
    "\n",
    "y_train_pred = pipeline.predict(X_train)\n",
    "y_test_pred = pipeline.predict(X_test)\n",
    "\n",
    "print('Train RMSE: ', mean_squared_error(y_train, y_train_pred)**0.5)\n",
    "print('Test RMSE: ', mean_squared_error(y_test, y_test_pred)**0.5)\n",
    "\n",
    "print('Train R2: ', r2_score(y_train, y_train_pred))\n",
    "print('Test R2: ', r2_score(y_test, y_test_pred))"
   ]
  },
  {
   "cell_type": "markdown",
   "id": "642cdeca",
   "metadata": {},
   "source": [
    "## Feature Reduction"
   ]
  },
  {
   "cell_type": "code",
   "execution_count": 16,
   "id": "f7a95f67",
   "metadata": {},
   "outputs": [
    {
     "name": "stdout",
     "output_type": "stream",
     "text": [
      "Best parameters found: \n",
      "{'model__leaf_size': 10, 'model__n_neighbors': 31, 'model__weights': 'distance'}\n"
     ]
    }
   ],
   "source": [
    "df = pd.read_csv('preprocessed_residential_apartment.csv')\n",
    "\n",
    "input_cols = ['CITY', 'BUILDING_TYPE', 'FURNISH_LABEL', 'BEDROOM_NUM', 'BATHROOM_NUM', 'BALCONY_NUM', 'AREA']\n",
    "target_cols = ['PRICE']\n",
    "\n",
    "X = df[input_cols]\n",
    "y = df[target_cols]\n",
    "\n",
    "X_train, X_test, y_train, y_test = train_test_split(X, y, test_size=0.2, random_state=42)\n",
    "\n",
    "\n",
    "preprocessing = ColumnTransformer([\n",
    "    ('oe', OrdinalEncoder(), [1]),\n",
    "    ('ohe', OneHotEncoder(), [0, 2]),\n",
    "    ('ss', StandardScaler(), [3, 4, 5, 6])\n",
    "], remainder='passthrough')\n",
    "\n",
    "\n",
    "pipeline = Pipeline([\n",
    "    ('preprocessing', preprocessing),\n",
    "    ('model', KNeighborsRegressor(n_jobs=-1))\n",
    "])\n",
    "\n",
    "# pipeline.fit(X_train, y_train)\n",
    "\n",
    "# Define the parameter grid to search\n",
    "param_grid = {\n",
    "    'model__n_neighbors': range(1, 101, 10),  # Search from 1 to 100 neighbors\n",
    "    'model__weights': ['uniform', 'distance'],\n",
    "    'model__leaf_size': [10, 20, 30, 40, 50],  # Example values for leaf_size,\n",
    "#     'model__p': [1, 2, 3]\n",
    "}\n",
    "\n",
    "def rmse(y_true, y_pred):\n",
    "    return np.sqrt(mean_squared_error(y_true, y_pred))\n",
    "\n",
    "rmse_scorer = make_scorer(rmse, greater_is_better=False)\n",
    "\n",
    "\n",
    "# Set up GridSearchCV\n",
    "grid_search = GridSearchCV(pipeline, param_grid, cv=KFold(n_splits=5, shuffle=True, random_state=42),\n",
    "                           scoring={'RMSE': rmse_scorer, 'r2': 'r2'}, \n",
    "                           refit='RMSE', # Refit using the best RMSE score\n",
    "                           return_train_score=True,\n",
    "                           n_jobs=-1)\n",
    "\n",
    "# Perform the search\n",
    "grid_search.fit(X_train, y_train)\n",
    "\n",
    "# Best parameter set\n",
    "print(\"Best parameters found: \")\n",
    "print(grid_search.best_params_)\n",
    "\n",
    "# Results of the grid search\n",
    "results = pd.DataFrame(grid_search.cv_results_)"
   ]
  },
  {
   "cell_type": "code",
   "execution_count": 17,
   "id": "e9a016b5",
   "metadata": {},
   "outputs": [
    {
     "name": "stdout",
     "output_type": "stream",
     "text": [
      "Train RMSE:  674761.3094031654\n",
      "Test RMSE:  2391940.380397073\n",
      "Train R2:  0.9862303443990528\n",
      "Test R2:  0.8238420088419125\n"
     ]
    }
   ],
   "source": [
    "y_train_pred = grid_search.predict(X_train)\n",
    "y_test_pred = grid_search.predict(X_test)\n",
    "\n",
    "print('Train RMSE: ', mean_squared_error(y_train, y_train_pred)**0.5)\n",
    "print('Test RMSE: ', mean_squared_error(y_test, y_test_pred)**0.5)\n",
    "\n",
    "print('Train R2: ', r2_score(y_train, y_train_pred))\n",
    "print('Test R2: ', r2_score(y_test, y_test_pred))"
   ]
  },
  {
   "cell_type": "code",
   "execution_count": 18,
   "id": "8f64df99",
   "metadata": {},
   "outputs": [],
   "source": [
    "preprocessing = ColumnTransformer([\n",
    "    ('oe', OrdinalEncoder(), [1]),\n",
    "    ('ohe', OneHotEncoder(), [0, 2]),\n",
    "    ('ss', StandardScaler(), [3, 4, 5, 6])\n",
    "], remainder='passthrough')\n",
    "\n",
    "\n",
    "pipeline = Pipeline([\n",
    "    ('preprocessing', preprocessing),\n",
    "    ('model', KNeighborsRegressor(n_neighbors=21, weights='uniform', leaf_size=10 ,n_jobs=-1))\n",
    "])\n",
    "\n",
    "def rmse(y_true, y_pred):\n",
    "    return np.sqrt(mean_squared_error(y_true, y_pred))\n",
    "\n",
    "rmse_scorer = make_scorer(rmse, greater_is_better=False)\n",
    "\n",
    "cv = KFold(n_splits=10, shuffle=True, random_state=42)\n",
    "cv_results = cross_validate(pipeline, X_train, y_train, n_jobs=-1,\n",
    "                            scoring={'RMSE': rmse_scorer, 'r2': 'r2'},\n",
    "                            cv=cv,\n",
    "                            return_train_score=True)"
   ]
  },
  {
   "cell_type": "code",
   "execution_count": 19,
   "id": "06a342c4",
   "metadata": {},
   "outputs": [],
   "source": [
    "error_df = get_error_df(cv_results)"
   ]
  },
  {
   "cell_type": "code",
   "execution_count": 20,
   "id": "6832a7ef",
   "metadata": {},
   "outputs": [
    {
     "name": "stdout",
     "output_type": "stream",
     "text": [
      "Train RMSE:  2435727.494427155    Train RMSE STD:  18828.140721197666\n",
      "Test RMSE:  2550842.6417842987    Test RMSE STD:  155099.25499205312\n",
      "Train R2:  0.8205612438595635    Train R2 STD:  0.002080976716294931\n",
      "Test R2:  0.8017908495951638    Test R2 STD:  0.01908300761308856\n"
     ]
    }
   ],
   "source": [
    "print('Train RMSE: ', error_df.mean().iloc[1], '   Train RMSE STD: ', error_df.std().iloc[1])\n",
    "print('Test RMSE: ', error_df.mean().iloc[0], '   Test RMSE STD: ', error_df.std().iloc[0])\n",
    "\n",
    "print('Train R2: ', error_df.mean().iloc[3], '   Train R2 STD: ', error_df.std().iloc[3])\n",
    "print('Test R2: ', error_df.mean().iloc[2], '   Test R2 STD: ', error_df.std().iloc[2])"
   ]
  },
  {
   "cell_type": "markdown",
   "id": "0c31758b",
   "metadata": {},
   "source": [
    "## Final"
   ]
  },
  {
   "cell_type": "code",
   "execution_count": 21,
   "id": "bc0d88b6",
   "metadata": {},
   "outputs": [
    {
     "name": "stdout",
     "output_type": "stream",
     "text": [
      "Train RMSE:  2471303.2591960127\n",
      "Test RMSE:  2545082.8721963814\n",
      "Train R2:  0.8152966309172218\n",
      "Test R2:  0.8005631048098926\n"
     ]
    }
   ],
   "source": [
    "df = pd.read_csv('preprocessed_residential_apartment.csv')\n",
    "dff = df.copy()\n",
    "\n",
    "input_cols = ['CITY', 'BUILDING_TYPE', 'FURNISH_LABEL', 'BEDROOM_NUM', 'BATHROOM_NUM', 'BALCONY_NUM', 'AREA']\n",
    "target_cols = ['PRICE']\n",
    "\n",
    "X = df[input_cols]\n",
    "y = df[target_cols]\n",
    "\n",
    "X_train, X_test, y_train, y_test = train_test_split(X, y, test_size=0.2, random_state=42)\n",
    "\n",
    "preprocessing = ColumnTransformer([\n",
    "    ('oe', OrdinalEncoder(), [1]),\n",
    "    ('ohe', OneHotEncoder(), [0, 2]),\n",
    "    ('ss', StandardScaler(), [3, 4, 5, 6])\n",
    "], remainder='passthrough')\n",
    "\n",
    "pipeline = Pipeline([\n",
    "    ('preprocessing', preprocessing),\n",
    "    ('model', KNeighborsRegressor(n_neighbors=30, weights='uniform', leaf_size=10 ,n_jobs=-1))\n",
    "])\n",
    "\n",
    "def rmse(y_true, y_pred):\n",
    "    return np.sqrt(mean_squared_error(y_true, y_pred))\n",
    "\n",
    "pipeline.fit(X_train, y_train)\n",
    "\n",
    "y_train_pred = pipeline.predict(X_train)\n",
    "y_test_pred = pipeline.predict(X_test)\n",
    "\n",
    "print('Train RMSE: ', mean_squared_error(y_train, y_train_pred)**0.5)\n",
    "print('Test RMSE: ', mean_squared_error(y_test, y_test_pred)**0.5)\n",
    "\n",
    "print('Train R2: ', r2_score(y_train, y_train_pred))\n",
    "print('Test R2: ', r2_score(y_test, y_test_pred))"
   ]
  }
 ],
 "metadata": {
  "kernelspec": {
   "display_name": "Python 3 (ipykernel)",
   "language": "python",
   "name": "python3"
  },
  "language_info": {
   "codemirror_mode": {
    "name": "ipython",
    "version": 3
   },
   "file_extension": ".py",
   "mimetype": "text/x-python",
   "name": "python",
   "nbconvert_exporter": "python",
   "pygments_lexer": "ipython3",
   "version": "3.10.13"
  }
 },
 "nbformat": 4,
 "nbformat_minor": 5
}
