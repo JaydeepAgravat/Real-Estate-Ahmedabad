{
 "cells": [
  {
   "cell_type": "markdown",
   "id": "9a49b3f7",
   "metadata": {},
   "source": [
    "# Data Cleaning"
   ]
  },
  {
   "cell_type": "markdown",
   "id": "d1b7a81b",
   "metadata": {},
   "source": [
    "<div style=\"background-color:#f4f4f4; padding: 20px; border-radius: 10px;\">\n",
    "\n",
    "<h3>Understanding Missing Values, Duplicates, and Necessary Drops</h3>\n",
    "\n",
    "<ul>\n",
    "  <li><strong>Dataset Overview</strong>: 12,495 entries and 169 attributes.</li>\n",
    "  <li><strong>Missing Values</strong>: 217 missing values in <code>PRICE</code> column.</li>\n",
    "  <li><strong>Empty Columns</strong>: <code>GROUP_META</code> contains only null values.</li>\n",
    "  <li><strong>Data Completeness</strong>: Except <code>location</code>, each column has at least 217 missing values. Additionally, each row has at least 36 missing values.</li>\n",
    "  <li><strong>Duplicates</strong>: Identified 7 sets of duplicate columns.</li>\n",
    "  <li><strong>Cleaning Actions</strong>:\n",
    "    <ul>\n",
    "      <li>Removed 127 unnecessary columns.</li>\n",
    "      <li>Dropped 2 rows with missing <code>AREA</code> and <code>PRICE</code> within a specific range.</li>\n",
    "      <li>Eliminated 73 rows with 'price on request' in <code>PRICE</code> column.</li>\n",
    "    </ul>\n",
    "  </li>\n",
    "</ul>\n",
    "\n",
    "<h3>Correcting Columns, Introducing New Features, and Necessary Drops</h3>\n",
    "\n",
    "<ul>\n",
    "  <li><strong>Data Refinement</strong>: Reduced to 12,409 entries and 42 attributes.</li>\n",
    "  <li><strong>Correcting Entries</strong>:\n",
    "    <ul>\n",
    "      <li>Fixed <code>AREA</code> by removing 'sq.ft.'.</li>\n",
    "      <li>Adjusted <code>PRICE</code> by replacing 'Cr' or 'L' with correct values.</li>\n",
    "    </ul>\n",
    "  </li>\n",
    "  <li><strong>New Feature</strong>: Introduced <code>AREA_TYPE</code> indicating the type of area.</li>\n",
    "  <li><strong>Cleanup</strong>: Removed 20 unnecessary columns.</li>\n",
    "</ul>\n",
    "\n",
    "<h3>Dataset Reduction and Focus on Residential Apartments</h3>\n",
    "\n",
    "<ul>\n",
    "  <li><strong>Refocused Dataset</strong>: Down to 12,409 entries and 22 attributes.</li>\n",
    "  <li><strong>Property Types</strong>: Identified 8 types but focused on 'Residential Apartment'.</li>\n",
    "  <li><strong>Extraction</strong>: Segregated other types for future analysis.</li>\n",
    "  <li><strong>Focus</strong>: Currently analyzing only 'Residential Apartment' category, totaling 9,291 entries.</li>\n",
    "</ul>\n",
    "\n",
    "<h3>Data Cleaning and Preparation for Residential Apartment Dataset Analysis</h3>\n",
    "\n",
    "<ul>\n",
    "  <li><strong>Data Preparation</strong>: 9,291 entries and 22 attributes.</li>\n",
    "  <li><strong>Handling Missing Data</strong>:\n",
    "    <ul>\n",
    "      <li>Removed 5 rows with null values in specific columns.</li>\n",
    "      <li>Imputed missing values in several columns.</li>\n",
    "    </ul>\n",
    "  </li>\n",
    "  <li><strong>Feature Engineering</strong>: Introduced <code>FURNISH_LABEL</code>.</li>\n",
    "  <li><strong>Column Adjustment</strong>:\n",
    "    <ul>\n",
    "      <li>Corrected error in <code>CITY</code> column.</li>\n",
    "      <li>Mapped values in <code>FLOOR_NUM</code>.</li>\n",
    "      <li>Converted <code>AREA</code> values to float.</li>\n",
    "    </ul>\n",
    "  </li>\n",
    "  <li><strong>Cleanup</strong>: Removed unnecessary column.</li>\n",
    "  <li><strong>Saving</strong>: Saved as <code>Residential_Apartment.csv</code> for EDA.</li>\n",
    "</ul>\n",
    "\n",
    "</div>"
   ]
  },
  {
   "cell_type": "code",
   "execution_count": 1,
   "id": "8cfbe3d3",
   "metadata": {},
   "outputs": [],
   "source": [
    "import re\n",
    "import ast\n",
    "import numpy as np\n",
    "import pandas as pd"
   ]
  },
  {
   "cell_type": "code",
   "execution_count": 2,
   "id": "6a5a4896",
   "metadata": {},
   "outputs": [],
   "source": [
    "pd.set_option('display.max_columns', None)\n",
    "pd.set_option('display.max_rows', None)"
   ]
  },
  {
   "cell_type": "code",
   "execution_count": 3,
   "id": "85a1374c",
   "metadata": {},
   "outputs": [],
   "source": [
    "df = pd.read_csv('data.csv', low_memory=False, index_col=0)\n",
    "dff = df.copy()"
   ]
  },
  {
   "cell_type": "markdown",
   "id": "185d4f7e",
   "metadata": {},
   "source": [
    "## Understanding Missing Values, Duplicates, and Necessary Drops"
   ]
  },
  {
   "cell_type": "markdown",
   "id": "1757d9bd",
   "metadata": {},
   "source": [
    "- Dataset contains 12,495 entries and 169 different pieces of information. \n",
    "- In the `PRICE` column, there are 217 missing values. \n",
    "- The `GROUP_META` column has no data; it's entirely composed of null values. \n",
    "- However, the `location` column is fully populated; there are no missing values there. \n",
    "- In fact, each column, except for `location`, has at least 217 missing values. \n",
    "- Additionally, each row has at least 36 missing values across all columns. \n",
    "- I've identified 7 sets of duplicate columns. \n",
    "- To clean up the dataset, we're going to remove 127 unnecessary columns. \n",
    "- Furthermore, I've eliminated 2 rows where both the `AREA` and `PRICE` fall within a certain range. \n",
    "- Finally, I've drop 73 rows where the `PRICE` value is listed as 'price on request'."
   ]
  },
  {
   "cell_type": "code",
   "execution_count": 4,
   "id": "6ebcc28d",
   "metadata": {},
   "outputs": [
    {
     "data": {
      "text/plain": [
       "(12498, 169)"
      ]
     },
     "execution_count": 4,
     "metadata": {},
     "output_type": "execute_result"
    }
   ],
   "source": [
    "df.shape"
   ]
  },
  {
   "cell_type": "code",
   "execution_count": 5,
   "id": "fb2909fb",
   "metadata": {},
   "outputs": [
    {
     "data": {
      "text/plain": [
       "0"
      ]
     },
     "execution_count": 5,
     "metadata": {},
     "output_type": "execute_result"
    }
   ],
   "source": [
    "df.duplicated().sum()"
   ]
  },
  {
   "cell_type": "code",
   "execution_count": 6,
   "id": "8f1b761b",
   "metadata": {},
   "outputs": [
    {
     "data": {
      "text/plain": [
       "0"
      ]
     },
     "execution_count": 6,
     "metadata": {},
     "output_type": "execute_result"
    }
   ],
   "source": [
    "df.isnull().all(axis=1).sum()"
   ]
  },
  {
   "cell_type": "code",
   "execution_count": 7,
   "id": "6f30b89c",
   "metadata": {},
   "outputs": [],
   "source": [
    "missing_values_col_df = ((1 - df.count() / len(df))*100).sort_values(ascending=False).to_frame(name='Missing Values Percentage')"
   ]
  },
  {
   "cell_type": "code",
   "execution_count": 8,
   "id": "62d699a0",
   "metadata": {},
   "outputs": [
    {
     "data": {
      "text/html": [
       "<div>\n",
       "<style scoped>\n",
       "    .dataframe tbody tr th:only-of-type {\n",
       "        vertical-align: middle;\n",
       "    }\n",
       "\n",
       "    .dataframe tbody tr th {\n",
       "        vertical-align: top;\n",
       "    }\n",
       "\n",
       "    .dataframe thead th {\n",
       "        text-align: right;\n",
       "    }\n",
       "</style>\n",
       "<table border=\"1\" class=\"dataframe\">\n",
       "  <thead>\n",
       "    <tr style=\"text-align: right;\">\n",
       "      <th></th>\n",
       "      <th>Missing Values Percentage</th>\n",
       "    </tr>\n",
       "  </thead>\n",
       "  <tbody>\n",
       "    <tr>\n",
       "      <th>location</th>\n",
       "      <td>0.0</td>\n",
       "    </tr>\n",
       "  </tbody>\n",
       "</table>\n",
       "</div>"
      ],
      "text/plain": [
       "          Missing Values Percentage\n",
       "location                        0.0"
      ]
     },
     "execution_count": 8,
     "metadata": {},
     "output_type": "execute_result"
    }
   ],
   "source": [
    "missing_values_col_df.sort_values('Missing Values Percentage').head(1)"
   ]
  },
  {
   "cell_type": "code",
   "execution_count": 9,
   "id": "e9fff5a1",
   "metadata": {},
   "outputs": [
    {
     "data": {
      "text/html": [
       "<div>\n",
       "<style scoped>\n",
       "    .dataframe tbody tr th:only-of-type {\n",
       "        vertical-align: middle;\n",
       "    }\n",
       "\n",
       "    .dataframe tbody tr th {\n",
       "        vertical-align: top;\n",
       "    }\n",
       "\n",
       "    .dataframe thead th {\n",
       "        text-align: right;\n",
       "    }\n",
       "</style>\n",
       "<table border=\"1\" class=\"dataframe\">\n",
       "  <thead>\n",
       "    <tr style=\"text-align: right;\">\n",
       "      <th></th>\n",
       "      <th>Missing Values Percentage</th>\n",
       "    </tr>\n",
       "  </thead>\n",
       "  <tbody>\n",
       "    <tr>\n",
       "      <th>GROUP_META</th>\n",
       "      <td>100.0</td>\n",
       "    </tr>\n",
       "  </tbody>\n",
       "</table>\n",
       "</div>"
      ],
      "text/plain": [
       "            Missing Values Percentage\n",
       "GROUP_META                      100.0"
      ]
     },
     "execution_count": 9,
     "metadata": {},
     "output_type": "execute_result"
    }
   ],
   "source": [
    "missing_values_col_df.head(1)"
   ]
  },
  {
   "cell_type": "code",
   "execution_count": 10,
   "id": "b078546c",
   "metadata": {},
   "outputs": [
    {
     "data": {
      "text/plain": [
       "Missing Values Percentage    2.160346\n",
       "Name: PRICE, dtype: float64"
      ]
     },
     "execution_count": 10,
     "metadata": {},
     "output_type": "execute_result"
    }
   ],
   "source": [
    "missing_values_col_df.loc['PRICE']"
   ]
  },
  {
   "cell_type": "code",
   "execution_count": 11,
   "id": "d4d3d70d",
   "metadata": {},
   "outputs": [],
   "source": [
    "missing_values_row_df = (df.isnull().sum(axis=1).sort_values(ascending=False)).to_frame(name='Number of missing cols')"
   ]
  },
  {
   "cell_type": "code",
   "execution_count": 12,
   "id": "9db7fb70",
   "metadata": {},
   "outputs": [
    {
     "data": {
      "text/plain": [
       "Number of missing cols\n",
       "36                        1\n",
       "Name: count, dtype: int64"
      ]
     },
     "execution_count": 12,
     "metadata": {},
     "output_type": "execute_result"
    }
   ],
   "source": [
    "missing_values_row_df.value_counts().sort_index()[:1]"
   ]
  },
  {
   "cell_type": "code",
   "execution_count": 13,
   "id": "8831d22c",
   "metadata": {},
   "outputs": [
    {
     "name": "stdout",
     "output_type": "stream",
     "text": [
      "['PROP_NAME', 'SOCIETY_NAME', 'BUILDING_NAME']\n",
      "['IS_NEW_LAUNCH', 'SHORTLISTED', 'REPORTED', 'RTOV_BOOKED']\n",
      "['IS_POSTER_RERA_REGISTERED', 'IS_DEALER_RERA_REGISTERED']\n",
      "['EXPIRY_DATE', 'EXPIRY_DATE__U']\n",
      "['OFFER_TAGS', 'PRELEASED_TAGS', 'PRELEASE_DATA']\n",
      "['caraousalImages', 'configCardTuples']\n",
      "['BATHROOM_ATTACHED', 'BALCONY_ATTACHED']\n"
     ]
    }
   ],
   "source": [
    "column_groups = {}\n",
    "\n",
    "for column in df.columns:\n",
    "    column_values = tuple(df[column])\n",
    "    if column_values in column_groups:\n",
    "        column_groups[column_values].append(column)\n",
    "    else:\n",
    "        column_groups[column_values] = [column]\n",
    "\n",
    "duplicate_column_groups = [group for group in column_groups.values() if len(group) > 1]\n",
    "\n",
    "if duplicate_column_groups:\n",
    "    for group in duplicate_column_groups:\n",
    "        print(group)"
   ]
  },
  {
   "cell_type": "code",
   "execution_count": 14,
   "id": "38441396",
   "metadata": {},
   "outputs": [],
   "source": [
    "df.drop(\n",
    "    columns = [\n",
    "        'AREA_UNIT__U', 'BUILDING_NAME', 'PROPERTY_VIDEOS', 'page', 'REGISTER_DATE_FORMATTED',\n",
    "        'price', 'PRELEASED_TAGS', 'PROJ_ID', 'reraDisplayTag', 'RES_COM', 'BUILDING_ID', 'eoi',\n",
    "        'GROUP_COUNT', 'entityType', 'AVAILABILITY', 'metadata', 'PD_URL', 'description',\n",
    "        'TRANSACT_TYPE', 'CONTACT_NAME', 'rating', 'FURNISH', 'APPROVED_AUTHORITIES', 'rescom',\n",
    "        'keyHighlights', 'mediaCount', 'EXPIRY_DATE__U', 'PRELEASE_DATA', 'INFINITY_VIDEO_SCREENING',\n",
    "        'profile', 'coworking', 'PRE_LEASED_CURRENT_RENT', 'projectUnitId', 'IS_FRESH',\n",
    "        'IS_DEFAULT_DEALER_IMAGE', 'REPORTED', 'POSTING_DATE__U', 'shortlisted',\n",
    "        'possessionStatus', 'locationHighlights', 'PHOTO_URL', 'LISTING', 'GROUP_META',\n",
    "        'caraousalImages', 'FEATURES', 'PROPERTY_TYPE__U', 'REGISTER_DATE__U', 'OVERLOOKING',\n",
    "        'FOMO', 'RTOV_BOOKED', 'configSummary', 'OWNTYPE', 'BOOKING_AMOUNT', 'IS_FSL', 'OFFER_TAGS',\n",
    "        'preference', 'CITY_ID', 'CONTACT_CITY_NAME', 'PRIMARY_TAGS', 'PROP_HEADING', 'HAVEPHOTO',\n",
    "        'configCardTuples', 'UPDATE_DATE__U', 'FORMATTED_PRICE', 'DEALER_PHOTO_URL', 'BROKERAGE',\n",
    "        'IS_NEW_LAUNCH', 'PROPERTY_NUMBER', 'GROUP_NAME', 'brochure', 'RESERVED_PARKING',\n",
    "        'CONTACT_COMPANY_NAME', 'POSTING_DATE', 'PREFERENCE', 'GREEN_TAGS', 'AMENITIES',\n",
    "        'subHeading', 'VIDEO_FILENAME', 'SPID', 'PAGE', 'tags', 'SOCIETY_NAME', 'MEDIUM_PHOTO_URL',\n",
    "        'FACING', 'GATED', 'UPDATE_DATE', 'SHORTLISTED', 'IS_POSTER_RERA_REGISTERED',\n",
    "        'LOCALITY_WO_CITY', 'SHOW_BSP', 'SHOW_WHATSAPP_ICON', 'CONF_ID', 'IS_PRE_LEASED',\n",
    "        'CLASS', 'MASK_CONTACT', 'landingPage', 'localityLabel', 'builderName', 'AGE',\n",
    "        'REGISTERED_DAYS', 'REGISTER_DATE', 'EXPIRY_DATE', 'FD', 'RERA_REGISTRATION_ID',\n",
    "        'FSL_Data', 'PROP_ID', 'VERIFIED', 'ALT_TAG', 'SELF_VERIFIED', 'CLASS_HEADING',\n",
    "        'VALUE_LABEL', 'SECONDARY_TAGS', 'PROPERTY_IMAGES', 'THUMBNAIL_IMAGES', 'SPRITE_IMAGES',\n",
    "        'xid', 'heading', 'coverImage', 'DEPOSIT_TYPE', 'PROP_NAME', 'PRICE_SQFT',\n",
    "        'MIN_PRICE', 'MAX_PRICE', 'MIN_AREA_SQFT', 'MAX_AREA_SQFT', 'MIN_AREA', 'MAX_AREA'\n",
    "    ],\n",
    "    inplace=True\n",
    ")"
   ]
  },
  {
   "cell_type": "code",
   "execution_count": 15,
   "id": "d533e361",
   "metadata": {},
   "outputs": [
    {
     "data": {
      "text/plain": [
       "14"
      ]
     },
     "execution_count": 15,
     "metadata": {},
     "output_type": "execute_result"
    }
   ],
   "source": [
    "df.duplicated().sum()"
   ]
  },
  {
   "cell_type": "code",
   "execution_count": 16,
   "id": "cd77eddc",
   "metadata": {},
   "outputs": [],
   "source": [
    "df.drop_duplicates(ignore_index=True, inplace=True)"
   ]
  },
  {
   "cell_type": "code",
   "execution_count": 17,
   "id": "e6f3243a",
   "metadata": {},
   "outputs": [
    {
     "data": {
      "text/html": [
       "<div>\n",
       "<style scoped>\n",
       "    .dataframe tbody tr th:only-of-type {\n",
       "        vertical-align: middle;\n",
       "    }\n",
       "\n",
       "    .dataframe tbody tr th {\n",
       "        vertical-align: top;\n",
       "    }\n",
       "\n",
       "    .dataframe thead th {\n",
       "        text-align: right;\n",
       "    }\n",
       "</style>\n",
       "<table border=\"1\" class=\"dataframe\">\n",
       "  <thead>\n",
       "    <tr style=\"text-align: right;\">\n",
       "      <th></th>\n",
       "      <th>AREA</th>\n",
       "      <th>PRICE</th>\n",
       "    </tr>\n",
       "  </thead>\n",
       "  <tbody>\n",
       "    <tr>\n",
       "      <th>0</th>\n",
       "      <td>1134-1215  sq.ft.</td>\n",
       "      <td>42  - 45 L</td>\n",
       "    </tr>\n",
       "    <tr>\n",
       "      <th>1</th>\n",
       "      <td>2052-2250  sq.ft.</td>\n",
       "      <td>1  - 1.1 Cr</td>\n",
       "    </tr>\n",
       "  </tbody>\n",
       "</table>\n",
       "</div>"
      ],
      "text/plain": [
       "                AREA        PRICE\n",
       "0  1134-1215  sq.ft.   42  - 45 L\n",
       "1  2052-2250  sq.ft.  1  - 1.1 Cr"
      ]
     },
     "execution_count": 17,
     "metadata": {},
     "output_type": "execute_result"
    }
   ],
   "source": [
    "df[['AREA','PRICE']].head(2)"
   ]
  },
  {
   "cell_type": "code",
   "execution_count": 18,
   "id": "9436746f",
   "metadata": {},
   "outputs": [],
   "source": [
    "df = df.iloc[2:]\n",
    "df.reset_index(drop=True, inplace=True)"
   ]
  },
  {
   "cell_type": "code",
   "execution_count": 19,
   "id": "65c2e732",
   "metadata": {},
   "outputs": [
    {
     "data": {
      "text/plain": [
       "73"
      ]
     },
     "execution_count": 19,
     "metadata": {},
     "output_type": "execute_result"
    }
   ],
   "source": [
    "(df['PRICE']=='Price on Request').sum()"
   ]
  },
  {
   "cell_type": "code",
   "execution_count": 20,
   "id": "2277d793",
   "metadata": {},
   "outputs": [],
   "source": [
    "df.drop(df[df['PRICE'].str.lower() == 'price on request'].index, inplace=True)\n",
    "df.reset_index(drop=True, inplace=True)"
   ]
  },
  {
   "cell_type": "markdown",
   "id": "673157ec",
   "metadata": {},
   "source": [
    "## Correcting Columns, Introducing New Features, and Necessary Drops"
   ]
  },
  {
   "cell_type": "markdown",
   "id": "262ecaae",
   "metadata": {},
   "source": [
    "- Now, dataset contains 12,409 entries and 42 different pieces of information. \n",
    "- I've corrected the `AREA` column by removing the 'sq.ft.' string from it.\n",
    "- In the `PRICE` column, I've made corrections by replacing 'Cr' or 'L' with the appropriate numerical values.\n",
    "- I've introduced a new feature called `AREA_TYPE`, which indicates the type of area mentioned in the `AREA` column.\n",
    "- To clean up the dataset, I've removed 20 unnecessary columns"
   ]
  },
  {
   "cell_type": "code",
   "execution_count": 21,
   "id": "e1da0bd0",
   "metadata": {},
   "outputs": [
    {
     "data": {
      "text/plain": [
       "(12409, 42)"
      ]
     },
     "execution_count": 21,
     "metadata": {},
     "output_type": "execute_result"
    }
   ],
   "source": [
    "df.shape"
   ]
  },
  {
   "cell_type": "code",
   "execution_count": 22,
   "id": "7067ecab",
   "metadata": {},
   "outputs": [],
   "source": [
    "df['AREA'] = df['AREA'].str.replace(' sq.ft.', '')"
   ]
  },
  {
   "cell_type": "code",
   "execution_count": 23,
   "id": "28843b66",
   "metadata": {},
   "outputs": [],
   "source": [
    "def convert_price(price):\n",
    "    if np.nan is price:\n",
    "        return price\n",
    "    elif 'Cr' in price:\n",
    "        price = price.replace('Cr', '')\n",
    "        return float(price) * 10000000\n",
    "    elif 'L' in price:\n",
    "        price = price.replace('L', '')\n",
    "        return float(price) * 100000\n",
    "\n",
    "df['PRICE'] = df['PRICE'].apply(convert_price)"
   ]
  },
  {
   "cell_type": "code",
   "execution_count": 24,
   "id": "d3c30325",
   "metadata": {},
   "outputs": [],
   "source": [
    "temp_df = df.copy()\n",
    "\n",
    "temp_df['AREA_int'] = temp_df['AREA'].fillna(-1).astype(int)\n",
    "temp_df['CARPET_SQFT_int'] = temp_df['CARPET_SQFT'].fillna(-1).astype(int)\n",
    "temp_df['BUILTUP_SQFT_int'] = temp_df['BUILTUP_SQFT'].fillna(-1).astype(int)\n",
    "temp_df['SUPERBUILTUP_SQFT_int'] = temp_df['SUPERBUILTUP_SQFT'].fillna(-1).astype(int)\n",
    "temp_df['SUPER_SQFT_int'] = temp_df['SUPER_SQFT'].fillna(-1).astype(int)\n",
    "\n",
    "area_types = []\n",
    "\n",
    "for index, row in temp_df.iterrows():\n",
    "    area = row['AREA_int']\n",
    "    if area == row['CARPET_SQFT_int']:\n",
    "        area_types.append('CARPET_SQFT')\n",
    "    elif area == row['BUILTUP_SQFT_int']:\n",
    "        area_types.append('BUILTUP_SQFT')\n",
    "    elif area == row['SUPERBUILTUP_SQFT_int']:\n",
    "        area_types.append('SUPERBUILTUP_SQFT')\n",
    "    elif area == row['SUPER_SQFT_int']:\n",
    "        area_types.append('SUPER_SQFT')\n",
    "    else:\n",
    "        area_types.append('Unknown')\n",
    "\n",
    "df['AREA_TYPE'] = area_types"
   ]
  },
  {
   "cell_type": "code",
   "execution_count": 25,
   "id": "da9aa4b4",
   "metadata": {},
   "outputs": [],
   "source": [
    "df.drop(\n",
    "    columns = [\n",
    "        'AREA_UNIT', 'COM_AREA_TYPE', 'SECONDARY_AREA', 'SUPER_AREA', 'SUPERAREA_UNIT',\n",
    "        'SUPER_SQFT', 'SUPERAREA_UNIT__U', 'CARPET_AREA', 'CARPETAREA_UNIT', 'CARPET_SQFT',\n",
    "        'SUPERBUILTUP_AREA', 'SUPERBUILTUPAREA_UNIT', 'SUPERBUILTUP_SQFT',\n",
    "        'CARPETAREA_UNIT__U', 'SUPERBUILTUPAREA_UNIT__U', 'BUILTUP_AREA', 'BUILTUP_SQFT',\n",
    "        'TOTAL_LANDMARK_COUNT', 'FORMATTED_LANDMARK_DETAILS', 'MAP_DETAILS', 'location'\n",
    "    ],\n",
    "    inplace=True\n",
    ")"
   ]
  },
  {
   "cell_type": "markdown",
   "id": "dbdee55f",
   "metadata": {},
   "source": [
    "## Dataset Reduction and Focus on Residential Apartments"
   ]
  },
  {
   "cell_type": "markdown",
   "id": "6a200d0d",
   "metadata": {},
   "source": [
    "- I've reduced the dataset to 12,409 entries and 22 different pieces of information..\n",
    "- Among the properties, I've identified 8 different types.\n",
    "- However, for now, I'm only interested in **Residential Apartment**.\n",
    "- So, I've extracted other specific category into a separate CSV file for future use.\n",
    "- Currently, I've solely focus on the 'Residential Apartment' category, which consists of 9,291 entries and 22 different pieces of information."
   ]
  },
  {
   "cell_type": "code",
   "execution_count": 26,
   "id": "554dbd01",
   "metadata": {},
   "outputs": [
    {
     "data": {
      "text/plain": [
       "(12409, 22)"
      ]
     },
     "execution_count": 26,
     "metadata": {},
     "output_type": "execute_result"
    }
   ],
   "source": [
    "df.shape"
   ]
  },
  {
   "cell_type": "code",
   "execution_count": 27,
   "id": "639b1646",
   "metadata": {},
   "outputs": [
    {
     "data": {
      "text/plain": [
       "PROPERTY_TYPE\n",
       "Residential Apartment        9291\n",
       "Independent House/Villa      1851\n",
       "Residential Land              752\n",
       "Independent/Builder Floor     164\n",
       "Farm House                     38\n",
       "Studio Apartment               25\n",
       "Other                          13\n",
       "Serviced Apartments             6\n",
       "Name: count, dtype: int64"
      ]
     },
     "execution_count": 27,
     "metadata": {},
     "output_type": "execute_result"
    }
   ],
   "source": [
    "df['PROPERTY_TYPE'].value_counts()"
   ]
  },
  {
   "cell_type": "code",
   "execution_count": 28,
   "id": "90f753b3",
   "metadata": {},
   "outputs": [],
   "source": [
    "residential_apartment_df = df[df['PROPERTY_TYPE']=='Residential Apartment'].copy()"
   ]
  },
  {
   "cell_type": "code",
   "execution_count": 29,
   "id": "9ab14b32",
   "metadata": {},
   "outputs": [
    {
     "data": {
      "text/plain": [
       "(9291, 22)"
      ]
     },
     "execution_count": 29,
     "metadata": {},
     "output_type": "execute_result"
    }
   ],
   "source": [
    "residential_apartment_df.shape"
   ]
  },
  {
   "cell_type": "markdown",
   "id": "a02bf31b",
   "metadata": {},
   "source": [
    "## Data Cleaning and Preparation for Residential Apartment Dataset Analysis"
   ]
  },
  {
   "cell_type": "markdown",
   "id": "0220eb55",
   "metadata": {},
   "source": [
    "- Residential Apartment Property consists of 9,291 entries and 22 different pieces of information.\n",
    "- I removed 5 rows where any of these columns were null: `BALCONY_NUM`, `BEDROOM_NUM`, `FLOOR_NUM`, `TOTAL_FLOOR`.\n",
    "- I filled missing values in certain columns:\n",
    "   - For `BATHROOM_ATTACHED` and `BALCONY_ATTACHED`, if there was no information, I assumed 'Y' (Yes).\n",
    "   - For `CORNER_PROPERTY`, if there was no information, I assumed 'N' (No).\n",
    "   - For `TOP_USPS`, if there was no information, I marked it as 'INFO NOT AVAILABLE'.\n",
    "- I introduced a new feature called `FURNISH_LABEL`, if there was no information, I marked it as 'INFO NOT AVAILABLE'.\n",
    "- To clean up the dataset, I removed 1 unnecessary column.\n",
    "- I noticed an error in the `CITY` column, where 'Ahmedabad' was incorrectly labeled. I corrected it to 'Gandhinagar'.\n",
    "- I created a function called `map_floor_num` to convert the values in the `FLOOR_NUM` column into numeric format:\n",
    "   - If the value is a number, I converted it to an integer.\n",
    "   - If the value is 'G', I set it as 0.\n",
    "   - If the value is 'B' or 'L', I set it as -1.\n",
    "   - Otherwise, I marked it as null.\n",
    "- I converted the values in the `AREA` column to float data type.\n",
    "- I saved the modified dataframe as a CSV file named `Residential_Apartment.csv`.\n",
    "- This file is now prepared for Exploratory Data Analysis (EDA).\n",
    "- `Residential_Apartment.csv` consists of 9286 entries and 22 different pieces of information."
   ]
  },
  {
   "cell_type": "code",
   "execution_count": 30,
   "id": "a1da30f0",
   "metadata": {},
   "outputs": [
    {
     "data": {
      "text/plain": [
       "(9291, 22)"
      ]
     },
     "execution_count": 30,
     "metadata": {},
     "output_type": "execute_result"
    }
   ],
   "source": [
    "residential_apartment_df.shape"
   ]
  },
  {
   "cell_type": "code",
   "execution_count": 31,
   "id": "ee006842",
   "metadata": {},
   "outputs": [
    {
     "data": {
      "text/plain": [
       "BEDROOM_NUM             1\n",
       "FLOOR_NUM               1\n",
       "TOTAL_FLOOR             1\n",
       "BALCONY_NUM             5\n",
       "BATHROOM_ATTACHED    2021\n",
       "BALCONY_ATTACHED     2021\n",
       "TOP_USPS             3042\n",
       "CORNER_PROPERTY      5822\n",
       "dtype: int64"
      ]
     },
     "execution_count": 31,
     "metadata": {},
     "output_type": "execute_result"
    }
   ],
   "source": [
    "residential_apartment_df.isnull().sum().loc[lambda x: x!=0].sort_values()"
   ]
  },
  {
   "cell_type": "code",
   "execution_count": 32,
   "id": "64f47f87",
   "metadata": {},
   "outputs": [],
   "source": [
    "residential_apartment_df['LOCALITY'] = residential_apartment_df['LOCALITY'].str.capitalize()"
   ]
  },
  {
   "cell_type": "code",
   "execution_count": 33,
   "id": "df8c30dd",
   "metadata": {},
   "outputs": [
    {
     "data": {
      "text/plain": [
       "5"
      ]
     },
     "execution_count": 33,
     "metadata": {},
     "output_type": "execute_result"
    }
   ],
   "source": [
    "residential_apartment_df[(residential_apartment_df [['BALCONY_NUM', 'BEDROOM_NUM', 'FLOOR_NUM', 'TOTAL_FLOOR']].isnull()).any(axis=1)].shape[0]"
   ]
  },
  {
   "cell_type": "code",
   "execution_count": 34,
   "id": "ca72db4e",
   "metadata": {},
   "outputs": [],
   "source": [
    "residential_apartment_df.dropna(subset=['BALCONY_NUM', 'BEDROOM_NUM', 'FLOOR_NUM', 'TOTAL_FLOOR'], inplace=True, ignore_index=True)"
   ]
  },
  {
   "cell_type": "code",
   "execution_count": 35,
   "id": "cb81e77d",
   "metadata": {},
   "outputs": [
    {
     "data": {
      "text/plain": [
       "CORNER_PROPERTY\n",
       "Y    3468\n",
       "Name: count, dtype: int64"
      ]
     },
     "execution_count": 35,
     "metadata": {},
     "output_type": "execute_result"
    }
   ],
   "source": [
    "residential_apartment_df['CORNER_PROPERTY'].value_counts()"
   ]
  },
  {
   "cell_type": "code",
   "execution_count": 36,
   "id": "e2be70f0",
   "metadata": {},
   "outputs": [],
   "source": [
    "residential_apartment_df['CORNER_PROPERTY'] = residential_apartment_df['CORNER_PROPERTY'].fillna('N')\n",
    "residential_apartment_df['TOP_USPS'] = residential_apartment_df['TOP_USPS'].fillna('INFO NOT AVAILABLE')"
   ]
  },
  {
   "cell_type": "code",
   "execution_count": 37,
   "id": "36456bd9",
   "metadata": {},
   "outputs": [],
   "source": [
    "residential_apartment_df ['FORMATTED'] = residential_apartment_df ['FORMATTED'].apply(ast.literal_eval)\n",
    "\n",
    "def extract_furnish_label(row):\n",
    "    if 'FURNISH_LABEL' in row and row['FURNISH_LABEL']:\n",
    "        return row['FURNISH_LABEL']\n",
    "    else:\n",
    "        return 'INFO NOT AVAILABLE'\n",
    "\n",
    "residential_apartment_df['FURNISH_LABEL'] = residential_apartment_df['FORMATTED'].apply(extract_furnish_label)"
   ]
  },
  {
   "cell_type": "code",
   "execution_count": 38,
   "id": "be12ef19",
   "metadata": {},
   "outputs": [
    {
     "data": {
      "text/plain": [
       "FURNISH_LABEL\n",
       "Unfurnished           4898\n",
       "Furnished             1872\n",
       "Semifurnished         1869\n",
       "INFO NOT AVAILABLE     647\n",
       "Name: count, dtype: int64"
      ]
     },
     "execution_count": 38,
     "metadata": {},
     "output_type": "execute_result"
    }
   ],
   "source": [
    "residential_apartment_df['FURNISH_LABEL'].value_counts()"
   ]
  },
  {
   "cell_type": "code",
   "execution_count": 39,
   "id": "4d2f2edf",
   "metadata": {},
   "outputs": [
    {
     "data": {
      "text/plain": [
       "CITY\n",
       "Ahmedabad West     4831\n",
       "Ahmedabad North    2452\n",
       "Ahmedabad East     1317\n",
       "Gandhinagar         608\n",
       "Ahmedabad South      77\n",
       "Ahmedabad             1\n",
       "Name: count, dtype: int64"
      ]
     },
     "execution_count": 39,
     "metadata": {},
     "output_type": "execute_result"
    }
   ],
   "source": [
    "residential_apartment_df['CITY'].value_counts()"
   ]
  },
  {
   "cell_type": "code",
   "execution_count": 40,
   "id": "7f31b686",
   "metadata": {},
   "outputs": [],
   "source": [
    "residential_apartment_df.loc[residential_apartment_df['CITY'] == 'Ahmedabad ', 'CITY'] = 'Gandhinagar'"
   ]
  },
  {
   "cell_type": "code",
   "execution_count": 41,
   "id": "1698aef0",
   "metadata": {},
   "outputs": [],
   "source": [
    "def map_floor_num(value):\n",
    "    if value.isdigit():  \n",
    "        return int(value)\n",
    "    elif value == 'G':\n",
    "        return 0\n",
    "    elif value == 'B' or value == 'L':\n",
    "        return -1 \n",
    "    else:\n",
    "        return None \n",
    "\n",
    "residential_apartment_df['FLOOR_NUM'] = residential_apartment_df['FLOOR_NUM'].apply(map_floor_num)"
   ]
  },
  {
   "cell_type": "code",
   "execution_count": 42,
   "id": "7512bca1",
   "metadata": {},
   "outputs": [],
   "source": [
    "# Define categories based on number of floors\n",
    "def categorize_floor_count(floor):\n",
    "    if floor <= 5:\n",
    "        return 'Low-rise buildings'\n",
    "    elif floor <= 15:\n",
    "        return 'Mid-rise buildings'\n",
    "    elif floor <= 25:\n",
    "        return 'High-rise buildings'\n",
    "    else:\n",
    "        return 'Skyscrapers'\n",
    "\n",
    "# Apply categorization to the 'TOTAL_FLOOR' column\n",
    "residential_apartment_df['BUILDING_TYPE'] = residential_apartment_df['TOTAL_FLOOR'].apply(categorize_floor_count)"
   ]
  },
  {
   "cell_type": "code",
   "execution_count": 43,
   "id": "7d029183",
   "metadata": {},
   "outputs": [],
   "source": [
    "residential_apartment_df['AREA'] = residential_apartment_df['AREA'].astype(float)"
   ]
  },
  {
   "cell_type": "code",
   "execution_count": 44,
   "id": "94a70a01",
   "metadata": {},
   "outputs": [],
   "source": [
    "conversion_factors = {\n",
    "    'BUILTUP_SQFT': 1.1,  # For example, 1 BUILTUP_SQFT is equivalent to 1.1 SUPERBUILTUP_SQFT\n",
    "    'CARPET_SQFT': 1.2   # For example, 1 CARPET_SQFT is equivalent to 1.2 SUPERBUILTUP_SQFT\n",
    "}\n",
    "\n",
    "# Convert 'AREA' values for BUILTUP_SQFT and CARPET_SQFT to SUPERBUILTUP_SQFT\n",
    "for index, row in residential_apartment_df.iterrows():\n",
    "    if row['AREA_TYPE'] == 'BUILTUP_SQFT':\n",
    "        residential_apartment_df.at[index, 'AREA'] *= conversion_factors['BUILTUP_SQFT']\n",
    "    elif row['AREA_TYPE'] == 'CARPET_SQFT':\n",
    "        residential_apartment_df.at[index, 'AREA'] *= conversion_factors['CARPET_SQFT']"
   ]
  },
  {
   "cell_type": "code",
   "execution_count": 45,
   "id": "fab8e4bb",
   "metadata": {},
   "outputs": [
    {
     "name": "stdout",
     "output_type": "stream",
     "text": [
      "2005\n"
     ]
    }
   ],
   "source": [
    "print(residential_apartment_df[residential_apartment_df['AREA']>3000].shape[0]+residential_apartment_df[residential_apartment_df['AREA']<500].shape[0])\n",
    "indices_to_drop = residential_apartment_df[(residential_apartment_df['AREA'] > 3000) | (residential_apartment_df['AREA'] < 500)].index\n",
    "residential_apartment_df.drop(indices_to_drop, inplace=True)\n",
    "residential_apartment_df.reset_index(drop=True, inplace=True)"
   ]
  },
  {
   "cell_type": "code",
   "execution_count": 46,
   "id": "18428ac2",
   "metadata": {},
   "outputs": [
    {
     "name": "stdout",
     "output_type": "stream",
     "text": [
      "627\n"
     ]
    }
   ],
   "source": [
    "print(residential_apartment_df[residential_apartment_df['PRICE']>15000000].shape[0] + residential_apartment_df[residential_apartment_df['PRICE'] < 1000000].shape[0])\n",
    "indices_to_drop = residential_apartment_df[(residential_apartment_df['PRICE'] > 15000000) | (residential_apartment_df['PRICE'] < 1000000)].index\n",
    "residential_apartment_df.drop(indices_to_drop, inplace=True)\n",
    "residential_apartment_df.reset_index(drop=True, inplace=True)"
   ]
  },
  {
   "cell_type": "code",
   "execution_count": 47,
   "id": "7ad3f107",
   "metadata": {},
   "outputs": [
    {
     "name": "stdout",
     "output_type": "stream",
     "text": [
      "6\n"
     ]
    }
   ],
   "source": [
    "print(residential_apartment_df[residential_apartment_df['BEDROOM_NUM']>=5].shape[0])\n",
    "indices_to_drop = residential_apartment_df[residential_apartment_df['BEDROOM_NUM']>=5].index\n",
    "residential_apartment_df.drop(indices_to_drop, inplace=True)\n",
    "residential_apartment_df.reset_index(drop=True, inplace=True)"
   ]
  },
  {
   "cell_type": "code",
   "execution_count": 48,
   "id": "795f3a9c",
   "metadata": {},
   "outputs": [],
   "source": [
    "residential_apartment_df.drop(\n",
    "    columns = [\n",
    "        'FORMATTED', 'CLASS_LABEL', 'IS_DEALER_RERA_REGISTERED', 'PRODUCT_TYPE',\n",
    "        'PROPERTY_TYPE', 'PRICE_PER_UNIT_AREA', 'TOTAL_FLOOR', 'BATHROOM_ATTACHED', 'BALCONY_ATTACHED'\n",
    "    ],\n",
    "    inplace=True\n",
    ")"
   ]
  },
  {
   "cell_type": "code",
   "execution_count": 49,
   "id": "ffe394ec",
   "metadata": {},
   "outputs": [
    {
     "data": {
      "text/plain": [
       "(6648, 15)"
      ]
     },
     "execution_count": 49,
     "metadata": {},
     "output_type": "execute_result"
    }
   ],
   "source": [
    "residential_apartment_df.shape"
   ]
  },
  {
   "cell_type": "code",
   "execution_count": 50,
   "id": "880e146a",
   "metadata": {},
   "outputs": [],
   "source": [
    "column_order = [\n",
    "    \"DESCRIPTION\",\n",
    "    \"CITY\",\n",
    "    \"LOCALITY\",\n",
    "    \"BEDROOM_NUM\",\n",
    "    \"BATHROOM_NUM\",\n",
    "    \"BALCONY_NUM\",\n",
    "    \"FLOOR_NUM\",\n",
    "    \"BUILDING_TYPE\",\n",
    "    \"AREA\",\n",
    "    \"PRICE\",\n",
    "    \"TOP_USPS\",\n",
    "    \"CORNER_PROPERTY\",\n",
    "    \"FURNISH_LABEL\",\n",
    "    \"PROP_DETAILS_URL\",\n",
    "]"
   ]
  },
  {
   "cell_type": "code",
   "execution_count": 51,
   "id": "ebc89ff7",
   "metadata": {},
   "outputs": [
    {
     "data": {
      "text/plain": [
       "(6648, 15)"
      ]
     },
     "execution_count": 51,
     "metadata": {},
     "output_type": "execute_result"
    }
   ],
   "source": [
    "residential_apartment_df.shape"
   ]
  },
  {
   "cell_type": "code",
   "execution_count": 52,
   "id": "f4d6778e",
   "metadata": {},
   "outputs": [],
   "source": [
    "residential_apartment_df = residential_apartment_df[column_order]"
   ]
  },
  {
   "cell_type": "code",
   "execution_count": 53,
   "id": "014c69dd",
   "metadata": {},
   "outputs": [
    {
     "data": {
      "text/plain": [
       "0"
      ]
     },
     "execution_count": 53,
     "metadata": {},
     "output_type": "execute_result"
    }
   ],
   "source": [
    "residential_apartment_df.isnull().sum().sum()"
   ]
  },
  {
   "cell_type": "code",
   "execution_count": 54,
   "id": "5c310949",
   "metadata": {},
   "outputs": [
    {
     "data": {
      "text/plain": [
       "0"
      ]
     },
     "execution_count": 54,
     "metadata": {},
     "output_type": "execute_result"
    }
   ],
   "source": [
    "residential_apartment_df.duplicated().sum()"
   ]
  },
  {
   "cell_type": "code",
   "execution_count": 55,
   "id": "58600925",
   "metadata": {},
   "outputs": [],
   "source": [
    "residential_apartment_df.to_csv('Residential_Apartment.csv', index=False)"
   ]
  }
 ],
 "metadata": {
  "kernelspec": {
   "display_name": "Python 3 (ipykernel)",
   "language": "python",
   "name": "python3"
  },
  "language_info": {
   "codemirror_mode": {
    "name": "ipython",
    "version": 3
   },
   "file_extension": ".py",
   "mimetype": "text/x-python",
   "name": "python",
   "nbconvert_exporter": "python",
   "pygments_lexer": "ipython3",
   "version": "3.10.13"
  }
 },
 "nbformat": 4,
 "nbformat_minor": 5
}
